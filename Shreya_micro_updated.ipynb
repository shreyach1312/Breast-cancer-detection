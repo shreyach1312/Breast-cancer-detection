{
 "cells": [
  {
   "cell_type": "code",
   "execution_count": 1,
   "id": "9b1d1815",
   "metadata": {},
   "outputs": [],
   "source": [
    "import numpy as np\n",
    "import seaborn as sns\n",
    "import pandas as pd\n",
    "import matplotlib.pyplot as plt\n",
    "import cv2\n",
    "import seaborn as sns\n",
    "from keras_preprocessing.image import ImageDataGenerator\n",
    "from sklearn.preprocessing import LabelEncoder\n",
    "import albumentations as A\n",
    "from tensorflow.keras.utils import Sequence\n",
    "from sklearn.model_selection import train_test_split\n",
    "#from google.colab.patches import cv2_imshow\n",
    "import skimage.exposure\n",
    "import os"
   ]
  },
  {
   "cell_type": "code",
   "execution_count": 2,
   "id": "ba67db95",
   "metadata": {},
   "outputs": [
    {
     "data": {
      "text/html": [
       "<div>\n",
       "<style scoped>\n",
       "    .dataframe tbody tr th:only-of-type {\n",
       "        vertical-align: middle;\n",
       "    }\n",
       "\n",
       "    .dataframe tbody tr th {\n",
       "        vertical-align: top;\n",
       "    }\n",
       "\n",
       "    .dataframe thead th {\n",
       "        text-align: right;\n",
       "    }\n",
       "</style>\n",
       "<table border=\"1\" class=\"dataframe\">\n",
       "  <thead>\n",
       "    <tr style=\"text-align: right;\">\n",
       "      <th></th>\n",
       "      <th>filename</th>\n",
       "      <th>label</th>\n",
       "    </tr>\n",
       "  </thead>\n",
       "  <tbody>\n",
       "    <tr>\n",
       "      <th>0</th>\n",
       "      <td>Image_1.jpg</td>\n",
       "      <td>Density3Benign</td>\n",
       "    </tr>\n",
       "    <tr>\n",
       "      <th>1</th>\n",
       "      <td>Image_2.jpg</td>\n",
       "      <td>Density1Benign</td>\n",
       "    </tr>\n",
       "    <tr>\n",
       "      <th>2</th>\n",
       "      <td>Image_3.jpg</td>\n",
       "      <td>Density1Malignant</td>\n",
       "    </tr>\n",
       "    <tr>\n",
       "      <th>3</th>\n",
       "      <td>Image_4.jpg</td>\n",
       "      <td>Density1Benign</td>\n",
       "    </tr>\n",
       "    <tr>\n",
       "      <th>4</th>\n",
       "      <td>Image_5.jpg</td>\n",
       "      <td>Density1Malignant</td>\n",
       "    </tr>\n",
       "  </tbody>\n",
       "</table>\n",
       "</div>"
      ],
      "text/plain": [
       "      filename              label\n",
       "0  Image_1.jpg     Density3Benign\n",
       "1  Image_2.jpg     Density1Benign\n",
       "2  Image_3.jpg  Density1Malignant\n",
       "3  Image_4.jpg     Density1Benign\n",
       "4  Image_5.jpg  Density1Malignant"
      ]
     },
     "execution_count": 2,
     "metadata": {},
     "output_type": "execute_result"
    }
   ],
   "source": [
    "train=pd.read_csv(\"TTraining_set.csv\")\n",
    "train.head()"
   ]
  },
  {
   "cell_type": "code",
   "execution_count": 3,
   "id": "f91848b3",
   "metadata": {},
   "outputs": [
    {
     "data": {
      "text/html": [
       "<div>\n",
       "<style scoped>\n",
       "    .dataframe tbody tr th:only-of-type {\n",
       "        vertical-align: middle;\n",
       "    }\n",
       "\n",
       "    .dataframe tbody tr th {\n",
       "        vertical-align: top;\n",
       "    }\n",
       "\n",
       "    .dataframe thead th {\n",
       "        text-align: right;\n",
       "    }\n",
       "</style>\n",
       "<table border=\"1\" class=\"dataframe\">\n",
       "  <thead>\n",
       "    <tr style=\"text-align: right;\">\n",
       "      <th></th>\n",
       "      <th>filename</th>\n",
       "    </tr>\n",
       "  </thead>\n",
       "  <tbody>\n",
       "    <tr>\n",
       "      <th>0</th>\n",
       "      <td>Image_1.jpg</td>\n",
       "    </tr>\n",
       "    <tr>\n",
       "      <th>1</th>\n",
       "      <td>Image_2.jpg</td>\n",
       "    </tr>\n",
       "    <tr>\n",
       "      <th>2</th>\n",
       "      <td>Image_3.jpg</td>\n",
       "    </tr>\n",
       "    <tr>\n",
       "      <th>3</th>\n",
       "      <td>Image_4.jpg</td>\n",
       "    </tr>\n",
       "    <tr>\n",
       "      <th>4</th>\n",
       "      <td>Image_5.jpg</td>\n",
       "    </tr>\n",
       "  </tbody>\n",
       "</table>\n",
       "</div>"
      ],
      "text/plain": [
       "      filename\n",
       "0  Image_1.jpg\n",
       "1  Image_2.jpg\n",
       "2  Image_3.jpg\n",
       "3  Image_4.jpg\n",
       "4  Image_5.jpg"
      ]
     },
     "execution_count": 3,
     "metadata": {},
     "output_type": "execute_result"
    }
   ],
   "source": [
    "test=pd.read_csv(\"TTesting_set.csv\")\n",
    "test.head()"
   ]
  },
  {
   "cell_type": "code",
   "execution_count": 4,
   "id": "83e999c2",
   "metadata": {},
   "outputs": [],
   "source": [
    "sub=pd.read_csv(\"ssample_submission.csv\")"
   ]
  },
  {
   "cell_type": "code",
   "execution_count": 5,
   "id": "e5cf1d98",
   "metadata": {},
   "outputs": [
    {
     "name": "stdout",
     "output_type": "stream",
     "text": [
      "len of training set 5724\n",
      "len of testing set 1908\n"
     ]
    }
   ],
   "source": [
    "print(\"len of training set\", len(train))\n",
    "print(\"len of testing set\", len(test))"
   ]
  },
  {
   "cell_type": "code",
   "execution_count": 6,
   "id": "2ff87b8e",
   "metadata": {},
   "outputs": [
    {
     "data": {
      "text/plain": [
       "label\n",
       "Density2Malignant    1728\n",
       "Density1Malignant    1620\n",
       "Density3Benign        702\n",
       "Density1Benign        648\n",
       "Density3Malignant     432\n",
       "Density4Benign        324\n",
       "Density2Benign        216\n",
       "Density4Malignant      54\n",
       "Name: count, dtype: int64"
      ]
     },
     "execution_count": 6,
     "metadata": {},
     "output_type": "execute_result"
    }
   ],
   "source": [
    "(train[\"label\"].value_counts())"
   ]
  },
  {
   "cell_type": "code",
   "execution_count": 7,
   "id": "c83763d7",
   "metadata": {},
   "outputs": [
    {
     "name": "stderr",
     "output_type": "stream",
     "text": [
      "/Users/shreyachinamilli/anaconda3/envs/tf/lib/python3.9/site-packages/seaborn/_oldcore.py:1498: FutureWarning: is_categorical_dtype is deprecated and will be removed in a future version. Use isinstance(dtype, CategoricalDtype) instead\n",
      "  if pd.api.types.is_categorical_dtype(vector):\n",
      "/Users/shreyachinamilli/anaconda3/envs/tf/lib/python3.9/site-packages/seaborn/_oldcore.py:1498: FutureWarning: is_categorical_dtype is deprecated and will be removed in a future version. Use isinstance(dtype, CategoricalDtype) instead\n",
      "  if pd.api.types.is_categorical_dtype(vector):\n",
      "/Users/shreyachinamilli/anaconda3/envs/tf/lib/python3.9/site-packages/seaborn/_oldcore.py:1498: FutureWarning: is_categorical_dtype is deprecated and will be removed in a future version. Use isinstance(dtype, CategoricalDtype) instead\n",
      "  if pd.api.types.is_categorical_dtype(vector):\n"
     ]
    },
    {
     "data": {
      "text/plain": [
       "(array([0, 1, 2, 3, 4, 5, 6, 7]),\n",
       " [Text(0, 0, 'Density3Benign'),\n",
       "  Text(1, 0, 'Density1Benign'),\n",
       "  Text(2, 0, 'Density1Malignant'),\n",
       "  Text(3, 0, 'Density4Benign'),\n",
       "  Text(4, 0, 'Density2Malignant'),\n",
       "  Text(5, 0, 'Density3Malignant'),\n",
       "  Text(6, 0, 'Density2Benign'),\n",
       "  Text(7, 0, 'Density4Malignant')])"
      ]
     },
     "execution_count": 7,
     "metadata": {},
     "output_type": "execute_result"
    },
    {
     "data": {
      "image/png": "[encoded data removed]",
      "text/plain": [
       "<Figure size 1200x400 with 1 Axes>"
      ]
     },
     "metadata": {},
     "output_type": "display_data"
    }
   ],
   "source": [
    "plt.figure(figsize=(12,4))\n",
    "sns.countplot(x=train[\"label\"],data=train,)\n",
    "plt.xticks(rotation=30)"
   ]
  },
  {
   "cell_type": "code",
   "execution_count": 8,
   "id": "d494e884",
   "metadata": {},
   "outputs": [
    {
     "data": {
      "text/html": [
       "<div>\n",
       "<style scoped>\n",
       "    .dataframe tbody tr th:only-of-type {\n",
       "        vertical-align: middle;\n",
       "    }\n",
       "\n",
       "    .dataframe tbody tr th {\n",
       "        vertical-align: top;\n",
       "    }\n",
       "\n",
       "    .dataframe thead th {\n",
       "        text-align: right;\n",
       "    }\n",
       "</style>\n",
       "<table border=\"1\" class=\"dataframe\">\n",
       "  <thead>\n",
       "    <tr style=\"text-align: right;\">\n",
       "      <th></th>\n",
       "      <th>filename</th>\n",
       "      <th>label</th>\n",
       "    </tr>\n",
       "  </thead>\n",
       "  <tbody>\n",
       "    <tr>\n",
       "      <th>0</th>\n",
       "      <td>Image_1.jpg</td>\n",
       "      <td>Density3Benign</td>\n",
       "    </tr>\n",
       "    <tr>\n",
       "      <th>6</th>\n",
       "      <td>Image_7.jpg</td>\n",
       "      <td>Density3Benign</td>\n",
       "    </tr>\n",
       "    <tr>\n",
       "      <th>19</th>\n",
       "      <td>Image_20.jpg</td>\n",
       "      <td>Density3Benign</td>\n",
       "    </tr>\n",
       "    <tr>\n",
       "      <th>24</th>\n",
       "      <td>Image_25.jpg</td>\n",
       "      <td>Density3Benign</td>\n",
       "    </tr>\n",
       "    <tr>\n",
       "      <th>33</th>\n",
       "      <td>Image_34.jpg</td>\n",
       "      <td>Density3Benign</td>\n",
       "    </tr>\n",
       "    <tr>\n",
       "      <th>...</th>\n",
       "      <td>...</td>\n",
       "      <td>...</td>\n",
       "    </tr>\n",
       "    <tr>\n",
       "      <th>5690</th>\n",
       "      <td>Image_5691.jpg</td>\n",
       "      <td>Density3Benign</td>\n",
       "    </tr>\n",
       "    <tr>\n",
       "      <th>5705</th>\n",
       "      <td>Image_5706.jpg</td>\n",
       "      <td>Density3Benign</td>\n",
       "    </tr>\n",
       "    <tr>\n",
       "      <th>5715</th>\n",
       "      <td>Image_5716.jpg</td>\n",
       "      <td>Density3Benign</td>\n",
       "    </tr>\n",
       "    <tr>\n",
       "      <th>5717</th>\n",
       "      <td>Image_5718.jpg</td>\n",
       "      <td>Density3Benign</td>\n",
       "    </tr>\n",
       "    <tr>\n",
       "      <th>5723</th>\n",
       "      <td>Image_5724.jpg</td>\n",
       "      <td>Density3Benign</td>\n",
       "    </tr>\n",
       "  </tbody>\n",
       "</table>\n",
       "<p>702 rows × 2 columns</p>\n",
       "</div>"
      ],
      "text/plain": [
       "            filename           label\n",
       "0        Image_1.jpg  Density3Benign\n",
       "6        Image_7.jpg  Density3Benign\n",
       "19      Image_20.jpg  Density3Benign\n",
       "24      Image_25.jpg  Density3Benign\n",
       "33      Image_34.jpg  Density3Benign\n",
       "...              ...             ...\n",
       "5690  Image_5691.jpg  Density3Benign\n",
       "5705  Image_5706.jpg  Density3Benign\n",
       "5715  Image_5716.jpg  Density3Benign\n",
       "5717  Image_5718.jpg  Density3Benign\n",
       "5723  Image_5724.jpg  Density3Benign\n",
       "\n",
       "[702 rows x 2 columns]"
      ]
     },
     "execution_count": 8,
     "metadata": {},
     "output_type": "execute_result"
    }
   ],
   "source": [
    "train[train[\"label\"]==\"Density3Benign\"]"
   ]
  },
  {
   "cell_type": "code",
   "execution_count": 9,
   "id": "69a21b5d",
   "metadata": {},
   "outputs": [],
   "source": [
    "def preprocess(image):\n",
    "    kernel = np.array([[0,-1,0], [-1,5,-1], [0,-1,0]])\n",
    "    im = cv2.filter2D(image, -1, kernel)\n",
    "    out2 = skimage.exposure.rescale_intensity(im, in_range=(150,200), out_range=(0,255))\n",
    "    out1=(cv2.normalize(im, (224,224),0, 255, cv2.NORM_MINMAX))\n",
    "    return out1"
   ]
  },
  {
   "cell_type": "code",
   "execution_count": 10,
   "id": "2557b0f4",
   "metadata": {},
   "outputs": [],
   "source": [
    "X_train, X_valid = train_test_split(train, test_size=0.1,stratify=train[\"label\"],shuffle=True)"
   ]
  },
  {
   "cell_type": "code",
   "execution_count": 11,
   "id": "262c1789",
   "metadata": {},
   "outputs": [
    {
     "name": "stdout",
     "output_type": "stream",
     "text": [
      "len of training set 5151\n",
      "len of validation set 573\n"
     ]
    }
   ],
   "source": [
    "print(\"len of training set\", len(X_train))\n",
    "print(\"len of validation set\", len(X_valid))"
   ]
  },
  {
   "cell_type": "code",
   "execution_count": 12,
   "id": "f6150657",
   "metadata": {},
   "outputs": [],
   "source": [
    "datagen=ImageDataGenerator(rescale=1./255,preprocessing_function=preprocess)"
   ]
  },
  {
   "cell_type": "code",
   "execution_count": 13,
   "id": "d0ea0efb",
   "metadata": {},
   "outputs": [
    {
     "name": "stdout",
     "output_type": "stream",
     "text": [
      "Found 5151 validated image filenames belonging to 8 classes.\n"
     ]
    }
   ],
   "source": [
    "train_generator=datagen.flow_from_dataframe(\n",
    "dataframe=X_train,\n",
    "directory=\"mammography_images/train\",\n",
    "x_col=\"filename\",\n",
    "y_col=\"label\",\n",
    "batch_size=32,\n",
    "seed=42,\n",
    "shuffle=True,\n",
    "class_mode=\"categorical\",\n",
    "target_size=(224,224))"
   ]
  },
  {
   "cell_type": "code",
   "execution_count": 14,
   "id": "cc86e8ae",
   "metadata": {},
   "outputs": [
    {
     "name": "stderr",
     "output_type": "stream",
     "text": [
      "Clipping input data to the valid range for imshow with RGB data ([0..1] for floats or [0..255] for integers).\n",
      "Clipping input data to the valid range for imshow with RGB data ([0..1] for floats or [0..255] for integers).\n"
     ]
    },
    {
     "name": "stdout",
     "output_type": "stream",
     "text": [
      "(224, 224, 3)\n",
      "(224, 224, 3)\n"
     ]
    },
    {
     "data": {
      "image/png": "[encoded data removed]",
      "text/plain": [
       "<Figure size 600x800 with 1 Axes>"
      ]
     },
     "metadata": {},
     "output_type": "display_data"
    },
    {
     "data": {
      "image/png": "[encoded data removed]",
      "text/plain": [
       "<Figure size 600x800 with 1 Axes>"
      ]
     },
     "metadata": {},
     "output_type": "display_data"
    }
   ],
   "source": [
    "x,y = train_generator.next()\n",
    "for i in range(2):\n",
    "    image = x[i]\n",
    "    plt.figure(figsize=(6,8))\n",
    "    plt.subplot(1,2,i+1)\n",
    "    plt.imshow(image)\n",
    "    print(image.shape)\n",
    "   \n",
    "plt.show()"
   ]
  },
  {
   "cell_type": "code",
   "execution_count": 15,
   "id": "45b4c80e",
   "metadata": {},
   "outputs": [
    {
     "name": "stdout",
     "output_type": "stream",
     "text": [
      "Found 573 validated image filenames belonging to 8 classes.\n"
     ]
    }
   ],
   "source": [
    "valid_datagen=ImageDataGenerator(rescale=1./255.,preprocessing_function=preprocess)\n",
    "valid_generator=valid_datagen.flow_from_dataframe( \n",
    "dataframe=X_valid,\n",
    "directory=\"mammography_images/train\",\n",
    "x_col=\"filename\",\n",
    "y_col=\"label\",\n",
    "batch_size=32,\n",
    "seed=42,\n",
    "shuffle=True,\n",
    "class_mode=\"categorical\",\n",
    "target_size=(224,224))"
   ]
  },
  {
   "cell_type": "code",
   "execution_count": 16,
   "id": "b295f3b7",
   "metadata": {},
   "outputs": [],
   "source": [
    "from tensorflow.keras.layers import Dense, Flatten, GlobalAveragePooling2D, BatchNormalization, Dropout,AveragePooling2D\n",
    "from tensorflow.keras.applications.resnet import ResNet50\n",
    "import tensorflow as tf\n",
    "from tensorflow.keras.applications import InceptionV3,DenseNet201,EfficientNetB7, MobileNetV2,Xception,VGG16,NASNetMobile\n",
    "from keras.applications.inception_resnet_v2 import InceptionResNetV2\n",
    "from tensorflow.keras.callbacks import ModelCheckpoint, EarlyStopping, ReduceLROnPlateau\n",
    "from keras.models import Model\n",
    "from keras.models import Sequential\n",
    "from keras.regularizers import *\n",
    "from tensorflow import keras\n",
    "from tensorflow.keras import layers"
   ]
  },
  {
   "cell_type": "code",
   "execution_count": 17,
   "id": "62368d1b",
   "metadata": {},
   "outputs": [],
   "source": [
    "import os\n",
    "\n",
    "# Define the directory path\n",
    "checkpoint_dir = \"training_4\"\n",
    "\n",
    "# Create the directory if it doesn't exist\n",
    "if not os.path.exists(checkpoint_dir):\n",
    "    os.makedirs(checkpoint_dir)\n",
    "\n",
    "# Define the checkpoint file path\n",
    "checkpoint_path = os.path.join(checkpoint_dir, \"cp.ckpt\")\n",
    "\n",
    "\n",
    "open(checkpoint_path, 'a').close()\n",
    "\n",
    "# Now, you have created the \"training_0\" directory and the \"cp.ckpt\" file\n"
   ]
  },
  {
   "cell_type": "code",
   "execution_count": 18,
   "id": "0d30355c",
   "metadata": {},
   "outputs": [],
   "source": [
    "checkpoint_path = \"training_4/cp.ckpt\"\n",
    "checkpoint_dir = os.path.dirname(checkpoint_path)\n",
    "my_callbacks = [\n",
    "               ModelCheckpoint(checkpoint_path, monitor = 'val_accuracy',verbose = 1,save_weights_only=True, save_best_only = True,mode=\"max\"),\n",
    "               EarlyStopping(monitor='val_loss', patience=5, verbose=0, mode='min'),\n",
    "               ReduceLROnPlateau(monitor='val_loss', factor=0.1, patience=5, verbose=1, mode='min',min_delta=1e-4)\n",
    "]"
   ]
  },
  {
   "cell_type": "code",
   "execution_count": 19,
   "id": "1695e3e2",
   "metadata": {},
   "outputs": [],
   "source": [
    "STEP_SIZE_TRAIN=train_generator.n//train_generator.batch_size\n",
    "STEP_SIZE_VALID=valid_generator.n//valid_generator.batch_size"
   ]
  },
  {
   "cell_type": "code",
   "execution_count": 20,
   "id": "91f206a0",
   "metadata": {},
   "outputs": [],
   "source": [
    "def build_model():\n",
    "  model = Sequential()\n",
    "\n",
    "  conv_base = DenseNet201(input_shape=(224,224,3), include_top=False, pooling='max',weights='imagenet')\n",
    "  model.add(conv_base)\n",
    "  model.add(BatchNormalization())\n",
    "  model.add(Dense(2048, activation='relu', kernel_regularizer=l1_l2(0.01)))\n",
    "  model.add(BatchNormalization())\n",
    "  model.add(Dense(8, activation='softmax'))\n",
    "\n",
    "  train_layers = [layer for layer in conv_base.layers[::-1][:5]]\n",
    "\n",
    "  for layer in conv_base.layers:\n",
    "    if layer in train_layers:\n",
    "      layer.trainable = True\n",
    "  return model"
   ]
  },
  {
   "cell_type": "code",
   "execution_count": 21,
   "id": "de226fe1",
   "metadata": {},
   "outputs": [],
   "source": [
    "my_model=build_model()"
   ]
  },
  {
   "cell_type": "code",
   "execution_count": 22,
   "id": "1b766af7",
   "metadata": {},
   "outputs": [],
   "source": [
    "# Define a constant learning rate\n",
    "learning_rate = 0.00001\n",
    "\n",
    "# Create the legacy Adam optimizer with the constant learning rate\n",
    "optimizer = tf.keras.optimizers.legacy.Adam(learning_rate=learning_rate)\n",
    "\n",
    "# Compile your model\n",
    "my_model.compile(\n",
    "    optimizer=optimizer,\n",
    "    metrics=[\"accuracy\"],\n",
    "    loss=tf.keras.losses.CategoricalCrossentropy(label_smoothing=0.1)\n",
    ")"
   ]
  },
  {
   "cell_type": "code",
   "execution_count": 23,
   "id": "1bd3bb60",
   "metadata": {
    "scrolled": false
   },
   "outputs": [
    {
     "name": "stdout",
     "output_type": "stream",
     "text": [
      "Epoch 1/25\n"
     ]
    },
    {
     "name": "stderr",
     "output_type": "stream",
     "text": [
      "2023-11-04 15:51:42.037706: I tensorflow/core/common_runtime/executor.cc:1197] [/device:CPU:0] (DEBUG INFO) Executor start aborting (this does not indicate an error and you can ignore this message): INVALID_ARGUMENT: You must feed a value for placeholder tensor 'Placeholder/_0' with dtype int32\n",
      "\t [[{{node Placeholder/_0}}]]\n",
      "2023-11-04 15:51:42.048868: W tensorflow/tsl/platform/profile_utils/cpu_utils.cc:128] Failed to get CPU frequency: 0 Hz\n"
     ]
    },
    {
     "name": "stdout",
     "output_type": "stream",
     "text": [
      "160/160 [==============================] - ETA: 0s - loss: 757.9980 - accuracy: 0.2776"
     ]
    },
    {
     "name": "stderr",
     "output_type": "stream",
     "text": [
      "2023-11-04 16:15:29.479794: I tensorflow/core/common_runtime/executor.cc:1197] [/device:CPU:0] (DEBUG INFO) Executor start aborting (this does not indicate an error and you can ignore this message): INVALID_ARGUMENT: You must feed a value for placeholder tensor 'Placeholder/_0' with dtype int32\n",
      "\t [[{{node Placeholder/_0}}]]\n"
     ]
    },
    {
     "name": "stdout",
     "output_type": "stream",
     "text": [
      "\n",
      "Epoch 1: val_accuracy improved from -inf to 0.20404, saving model to training_4/cp.ckpt\n",
      "160/160 [==============================] - 1457s 9s/step - loss: 757.9980 - accuracy: 0.2776 - val_loss: 729.4324 - val_accuracy: 0.2040 - lr: 1.0000e-05\n",
      "Epoch 2/25\n",
      "160/160 [==============================] - ETA: 0s - loss: 700.7278 - accuracy: 0.6533\n",
      "Epoch 2: val_accuracy improved from 0.20404 to 0.36213, saving model to training_4/cp.ckpt\n",
      "160/160 [==============================] - 1517s 9s/step - loss: 700.7278 - accuracy: 0.6533 - val_loss: 673.5195 - val_accuracy: 0.3621 - lr: 1.0000e-05\n",
      "Epoch 3/25\n",
      "160/160 [==============================] - ETA: 0s - loss: 645.4045 - accuracy: 0.8515\n",
      "Epoch 3: val_accuracy improved from 0.36213 to 0.51838, saving model to training_4/cp.ckpt\n",
      "160/160 [==============================] - 1437s 9s/step - loss: 645.4045 - accuracy: 0.8515 - val_loss: 618.9259 - val_accuracy: 0.5184 - lr: 1.0000e-05\n",
      "Epoch 4/25\n",
      "160/160 [==============================] - ETA: 0s - loss: 591.8267 - accuracy: 0.9420\n",
      "Epoch 4: val_accuracy improved from 0.51838 to 0.59926, saving model to training_4/cp.ckpt\n",
      "160/160 [==============================] - 1401s 9s/step - loss: 591.8267 - accuracy: 0.9420 - val_loss: 566.2477 - val_accuracy: 0.5993 - lr: 1.0000e-05\n",
      "Epoch 5/25\n",
      "160/160 [==============================] - ETA: 0s - loss: 540.1523 - accuracy: 0.9723\n",
      "Epoch 5: val_accuracy improved from 0.59926 to 0.65625, saving model to training_4/cp.ckpt\n",
      "160/160 [==============================] - 1418s 9s/step - loss: 540.1523 - accuracy: 0.9723 - val_loss: 515.4771 - val_accuracy: 0.6562 - lr: 1.0000e-05\n",
      "Epoch 6/25\n",
      "160/160 [==============================] - ETA: 0s - loss: 490.4777 - accuracy: 0.9895\n",
      "Epoch 6: val_accuracy improved from 0.65625 to 0.83456, saving model to training_4/cp.ckpt\n",
      "160/160 [==============================] - 1522s 10s/step - loss: 490.4777 - accuracy: 0.9895 - val_loss: 466.5548 - val_accuracy: 0.8346 - lr: 1.0000e-05\n",
      "Epoch 7/25\n",
      "160/160 [==============================] - ETA: 0s - loss: 442.9501 - accuracy: 0.9916\n",
      "Epoch 7: val_accuracy improved from 0.83456 to 0.86213, saving model to training_4/cp.ckpt\n",
      "160/160 [==============================] - 1598s 10s/step - loss: 442.9501 - accuracy: 0.9916 - val_loss: 420.0152 - val_accuracy: 0.8621 - lr: 1.0000e-05\n",
      "Epoch 8/25\n",
      "160/160 [==============================] - ETA: 0s - loss: 397.6542 - accuracy: 0.9963\n",
      "Epoch 8: val_accuracy improved from 0.86213 to 0.86949, saving model to training_4/cp.ckpt\n",
      "160/160 [==============================] - 1488s 9s/step - loss: 397.6542 - accuracy: 0.9963 - val_loss: 375.8929 - val_accuracy: 0.8695 - lr: 1.0000e-05\n",
      "Epoch 9/25\n",
      "160/160 [==============================] - ETA: 0s - loss: 354.6953 - accuracy: 0.9965\n",
      "Epoch 9: val_accuracy improved from 0.86949 to 0.88051, saving model to training_4/cp.ckpt\n",
      "160/160 [==============================] - 1466s 9s/step - loss: 354.6953 - accuracy: 0.9965 - val_loss: 334.1404 - val_accuracy: 0.8805 - lr: 1.0000e-05\n",
      "Epoch 10/25\n",
      "160/160 [==============================] - ETA: 0s - loss: 314.1240 - accuracy: 0.9979\n",
      "Epoch 10: val_accuracy did not improve from 0.88051\n",
      "160/160 [==============================] - 1483s 9s/step - loss: 314.1240 - accuracy: 0.9979 - val_loss: 294.7639 - val_accuracy: 0.8732 - lr: 1.0000e-05\n",
      "Epoch 11/25\n",
      "160/160 [==============================] - ETA: 0s - loss: 275.9873 - accuracy: 0.9992\n",
      "Epoch 11: val_accuracy improved from 0.88051 to 0.88971, saving model to training_4/cp.ckpt\n",
      "160/160 [==============================] - 1460s 9s/step - loss: 275.9873 - accuracy: 0.9992 - val_loss: 257.8611 - val_accuracy: 0.8897 - lr: 1.0000e-05\n",
      "Epoch 12/25\n",
      "160/160 [==============================] - ETA: 0s - loss: 240.3239 - accuracy: 0.9996\n",
      "Epoch 12: val_accuracy did not improve from 0.88971\n",
      "160/160 [==============================] - 1536s 10s/step - loss: 240.3239 - accuracy: 0.9996 - val_loss: 223.4398 - val_accuracy: 0.8879 - lr: 1.0000e-05\n",
      "Epoch 13/25\n",
      "160/160 [==============================] - ETA: 0s - loss: 207.1513 - accuracy: 0.9982\n",
      "Epoch 13: val_accuracy improved from 0.88971 to 0.89522, saving model to training_4/cp.ckpt\n",
      "160/160 [==============================] - 1511s 9s/step - loss: 207.1513 - accuracy: 0.9982 - val_loss: 191.5244 - val_accuracy: 0.8952 - lr: 1.0000e-05\n",
      "Epoch 14/25\n",
      "160/160 [==============================] - ETA: 0s - loss: 176.4882 - accuracy: 0.9992\n",
      "Epoch 14: val_accuracy improved from 0.89522 to 0.90074, saving model to training_4/cp.ckpt\n",
      "160/160 [==============================] - 1575s 10s/step - loss: 176.4882 - accuracy: 0.9992 - val_loss: 162.1188 - val_accuracy: 0.9007 - lr: 1.0000e-05\n",
      "Epoch 15/25\n",
      "160/160 [==============================] - ETA: 0s - loss: 148.3440 - accuracy: 0.9992\n",
      "Epoch 15: val_accuracy improved from 0.90074 to 0.90625, saving model to training_4/cp.ckpt\n",
      "160/160 [==============================] - 1617s 10s/step - loss: 148.3440 - accuracy: 0.9992 - val_loss: 135.2528 - val_accuracy: 0.9062 - lr: 1.0000e-05\n",
      "Epoch 16/25\n",
      "160/160 [==============================] - ETA: 0s - loss: 122.7241 - accuracy: 0.9994 \n",
      "Epoch 16: val_accuracy did not improve from 0.90625\n",
      "160/160 [==============================] - 1660s 10s/step - loss: 122.7241 - accuracy: 0.9994 - val_loss: 110.9011 - val_accuracy: 0.9062 - lr: 1.0000e-05\n",
      "Epoch 17/25\n",
      "160/160 [==============================] - ETA: 0s - loss: 99.6357 - accuracy: 0.9998 \n",
      "Epoch 17: val_accuracy improved from 0.90625 to 0.91176, saving model to training_4/cp.ckpt\n",
      "160/160 [==============================] - 1690s 11s/step - loss: 99.6357 - accuracy: 0.9998 - val_loss: 89.0718 - val_accuracy: 0.9118 - lr: 1.0000e-05\n",
      "Epoch 18/25\n",
      "160/160 [==============================] - ETA: 0s - loss: 79.0793 - accuracy: 0.9992 \n",
      "Epoch 18: val_accuracy improved from 0.91176 to 0.92279, saving model to training_4/cp.ckpt\n",
      "160/160 [==============================] - 1685s 11s/step - loss: 79.0793 - accuracy: 0.9992 - val_loss: 69.7867 - val_accuracy: 0.9228 - lr: 1.0000e-05\n",
      "Epoch 19/25\n",
      "160/160 [==============================] - ETA: 0s - loss: 61.0597 - accuracy: 0.9996\n",
      "Epoch 19: val_accuracy did not improve from 0.92279\n",
      "160/160 [==============================] - 1523s 10s/step - loss: 61.0597 - accuracy: 0.9996 - val_loss: 53.0258 - val_accuracy: 0.9228 - lr: 1.0000e-05\n",
      "Epoch 20/25\n",
      "160/160 [==============================] - ETA: 0s - loss: 45.5412 - accuracy: 0.9996\n",
      "Epoch 20: val_accuracy improved from 0.92279 to 0.94118, saving model to training_4/cp.ckpt\n",
      "160/160 [==============================] - 1516s 9s/step - loss: 45.5412 - accuracy: 0.9996 - val_loss: 38.7414 - val_accuracy: 0.9412 - lr: 1.0000e-05\n",
      "Epoch 21/25\n",
      "160/160 [==============================] - ETA: 0s - loss: 32.5140 - accuracy: 0.9994\n",
      "Epoch 21: val_accuracy did not improve from 0.94118\n",
      "160/160 [==============================] - 1597s 10s/step - loss: 32.5140 - accuracy: 0.9994 - val_loss: 26.9347 - val_accuracy: 0.9393 - lr: 1.0000e-05\n",
      "Epoch 22/25\n",
      "160/160 [==============================] - ETA: 0s - loss: 21.9363 - accuracy: 1.0000\n",
      "Epoch 22: val_accuracy improved from 0.94118 to 0.94669, saving model to training_4/cp.ckpt\n",
      "160/160 [==============================] - 1550s 10s/step - loss: 21.9363 - accuracy: 1.0000 - val_loss: 17.5547 - val_accuracy: 0.9467 - lr: 1.0000e-05\n",
      "Epoch 23/25\n",
      "160/160 [==============================] - ETA: 0s - loss: 13.7654 - accuracy: 1.0000\n",
      "Epoch 23: val_accuracy improved from 0.94669 to 0.95221, saving model to training_4/cp.ckpt\n",
      "160/160 [==============================] - 1351s 8s/step - loss: 13.7654 - accuracy: 1.0000 - val_loss: 10.5808 - val_accuracy: 0.9522 - lr: 1.0000e-05\n",
      "Epoch 24/25\n",
      "160/160 [==============================] - ETA: 0s - loss: 7.9590 - accuracy: 0.9996\n",
      "Epoch 24: val_accuracy improved from 0.95221 to 0.95772, saving model to training_4/cp.ckpt\n",
      "160/160 [==============================] - 1414s 9s/step - loss: 7.9590 - accuracy: 0.9996 - val_loss: 5.9310 - val_accuracy: 0.9577 - lr: 1.0000e-05\n",
      "Epoch 25/25\n",
      "160/160 [==============================] - ETA: 0s - loss: 4.4281 - accuracy: 0.9998\n",
      "Epoch 25: val_accuracy improved from 0.95772 to 0.97243, saving model to training_4/cp.ckpt\n",
      "160/160 [==============================] - 1444s 9s/step - loss: 4.4281 - accuracy: 0.9998 - val_loss: 3.4166 - val_accuracy: 0.9724 - lr: 1.0000e-05\n"
     ]
    },
    {
     "data": {
      "text/plain": [
       "<keras.callbacks.History at 0x29f8d5c70>"
      ]
     },
     "execution_count": 23,
     "metadata": {},
     "output_type": "execute_result"
    }
   ],
   "source": [
    "# Continue with model training\n",
    "my_model.fit(\n",
    "    train_generator,\n",
    "    steps_per_epoch=STEP_SIZE_TRAIN,\n",
    "    epochs=25,\n",
    "    validation_data=valid_generator,\n",
    "    validation_steps=STEP_SIZE_VALID,\n",
    "    callbacks=[my_callbacks]\n",
    ")"
   ]
  },
  {
   "cell_type": "code",
   "execution_count": 24,
   "id": "a00d7104",
   "metadata": {},
   "outputs": [
    {
     "name": "stderr",
     "output_type": "stream",
     "text": [
      "2023-11-05 08:52:22.380910: I tensorflow/core/common_runtime/executor.cc:1197] [/device:CPU:0] (DEBUG INFO) Executor start aborting (this does not indicate an error and you can ignore this message): INVALID_ARGUMENT: You must feed a value for placeholder tensor 'Placeholder/_0' with dtype int32\n",
      "\t [[{{node Placeholder/_0}}]]\n"
     ]
    },
    {
     "name": "stdout",
     "output_type": "stream",
     "text": [
      "18/18 [==============================] - 23s 1s/step - loss: 3.4151 - accuracy: 0.9738\n"
     ]
    },
    {
     "data": {
      "text/plain": [
       "[3.4150805473327637, 0.9738219976425171]"
      ]
     },
     "execution_count": 24,
     "metadata": {},
     "output_type": "execute_result"
    }
   ],
   "source": [
    "my_model.evaluate(valid_generator,verbose=1)"
   ]
  },
  {
   "cell_type": "code",
   "execution_count": 25,
   "id": "1e17fea1",
   "metadata": {},
   "outputs": [
    {
     "data": {
      "text/plain": [
       "{'Density1Benign': 0,\n",
       " 'Density1Malignant': 1,\n",
       " 'Density2Benign': 2,\n",
       " 'Density2Malignant': 3,\n",
       " 'Density3Benign': 4,\n",
       " 'Density3Malignant': 5,\n",
       " 'Density4Benign': 6,\n",
       " 'Density4Malignant': 7}"
      ]
     },
     "execution_count": 25,
     "metadata": {},
     "output_type": "execute_result"
    }
   ],
   "source": [
    "train_generator.class_indices"
   ]
  },
  {
   "cell_type": "code",
   "execution_count": 26,
   "id": "6cf8ffce",
   "metadata": {},
   "outputs": [
    {
     "name": "stdout",
     "output_type": "stream",
     "text": [
      "Found 1908 validated image filenames.\n"
     ]
    }
   ],
   "source": [
    "test_datagen=ImageDataGenerator(rescale=1./255.,preprocessing_function=preprocess)\n",
    "test_generator=valid_datagen.flow_from_dataframe(\n",
    "dataframe=test,\n",
    "directory=\"mammography_images/test\",\n",
    "x_col=\"filename\",\n",
    "y_col=None,\n",
    "batch_size=1,\n",
    "seed=42,\n",
    "shuffle=False,\n",
    "class_mode=None,\n",
    "target_size=(224,224))\n",
    "STEP_SIZE_TEST=test_generator.n//test_generator.batch_size"
   ]
  },
  {
   "cell_type": "code",
   "execution_count": 27,
   "id": "c818d9cd",
   "metadata": {},
   "outputs": [
    {
     "name": "stderr",
     "output_type": "stream",
     "text": [
      "2023-11-05 08:53:05.863323: I tensorflow/core/common_runtime/executor.cc:1197] [/device:CPU:0] (DEBUG INFO) Executor start aborting (this does not indicate an error and you can ignore this message): INVALID_ARGUMENT: You must feed a value for placeholder tensor 'Placeholder/_0' with dtype int32\n",
      "\t [[{{node Placeholder/_0}}]]\n"
     ]
    },
    {
     "name": "stdout",
     "output_type": "stream",
     "text": [
      "1908/1908 [==============================] - 147s 76ms/step\n"
     ]
    }
   ],
   "source": [
    "pred1=np.argmax(my_model.predict(test_generator,steps=STEP_SIZE_TEST,verbose=1),axis=1)"
   ]
  },
  {
   "cell_type": "code",
   "execution_count": 28,
   "id": "467e05fa",
   "metadata": {},
   "outputs": [
    {
     "data": {
      "text/plain": [
       "array([4, 0, 3, ..., 3, 3, 3])"
      ]
     },
     "execution_count": 28,
     "metadata": {},
     "output_type": "execute_result"
    }
   ],
   "source": [
    "pred1"
   ]
  },
  {
   "cell_type": "code",
   "execution_count": 29,
   "id": "9210b32e",
   "metadata": {},
   "outputs": [],
   "source": [
    "sub[\"label\"]=pred1\n",
    "sub[\"label\"]=sub[\"label\"].map({0:'Density1Benign',\n",
    " 1:'Density1Malignant',\n",
    " 2:'Density2Benign',\n",
    " 3:'Density2Malignant',\n",
    " 4: 'Density3Benign',\n",
    " 5: 'Density3Malignant',\n",
    " 6:'Density4Benign',\n",
    " 7:  'Density4Malignant'})"
   ]
  },
  {
   "cell_type": "code",
   "execution_count": 30,
   "id": "1f2575de",
   "metadata": {},
   "outputs": [],
   "source": [
    "# Specify the file path\n",
    "file_path = '12.csv'\n",
    "\n",
    "# Open the file in write mode, which creates an empty file\n",
    "with open(file_path, 'w') as f:\n",
    "    pass\n"
   ]
  },
  {
   "cell_type": "code",
   "execution_count": 31,
   "id": "b711f145",
   "metadata": {},
   "outputs": [],
   "source": [
    "sub.to_csv(\"12.csv\",index=False)"
   ]
  },
  {
   "cell_type": "code",
   "execution_count": 32,
   "id": "8ab0941b",
   "metadata": {},
   "outputs": [],
   "source": [
    "my_model.save(\"model_4/model_4.h5\")"
   ]
  },
  {
   "cell_type": "code",
   "execution_count": 33,
   "id": "fc4271e2",
   "metadata": {},
   "outputs": [],
   "source": [
    "my_model.save(\"weights_4/modeldense4.h5\")"
   ]
  },
  {
   "cell_type": "code",
   "execution_count": null,
   "id": "9cd3c7bc",
   "metadata": {},
   "outputs": [],
   "source": []
  },
  {
   "cell_type": "code",
   "execution_count": null,
   "id": "b3c52d24",
   "metadata": {},
   "outputs": [],
   "source": []
  }
 ],
 "metadata": {
  "kernelspec": {
   "display_name": "Python 3 (ipykernel)",
   "language": "python",
   "name": "python3"
  },
  "language_info": {
   "codemirror_mode": {
    "name": "ipython",
    "version": 3
   },
   "file_extension": ".py",
   "mimetype": "text/x-python",
   "name": "python",
   "nbconvert_exporter": "python",
   "pygments_lexer": "ipython3",
   "version": "3.9.18"
  }
 },
 "nbformat": 4,
 "nbformat_minor": 5
}
