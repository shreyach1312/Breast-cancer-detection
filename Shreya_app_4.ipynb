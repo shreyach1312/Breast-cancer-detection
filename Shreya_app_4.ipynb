{
 "cells": [
  {
   "cell_type": "code",
   "execution_count": null,
   "id": "1189f4aa",
   "metadata": {
    "scrolled": false
   },
   "outputs": [
    {
     "name": "stderr",
     "output_type": "stream",
     "text": [
      "WARNING:absl:At this time, the v2.11+ optimizer `tf.keras.optimizers.Adam` runs slowly on M1/M2 Macs, please use the legacy Keras optimizer instead, located at `tf.keras.optimizers.legacy.Adam`.\n",
      "WARNING:absl:There is a known slowdown when using v2.11+ Keras optimizers on M1/M2 Macs. Falling back to the legacy Keras optimizer, i.e., `tf.keras.optimizers.legacy.Adam`.\n",
      "/var/folders/zw/smhtz5j502g_y5t8kmgwj1m40000gn/T/ipykernel_83548/1870505496.py:41: GradioDeprecationWarning: Usage of gradio.inputs is deprecated, and will not be supported in the future, please import your component from gradio.components\n",
      "  image=gr.inputs.Image(shape=(224,224))\n",
      "/var/folders/zw/smhtz5j502g_y5t8kmgwj1m40000gn/T/ipykernel_83548/1870505496.py:41: GradioDeprecationWarning: `optional` parameter is deprecated, and it has no effect\n",
      "  image=gr.inputs.Image(shape=(224,224))\n",
      "/var/folders/zw/smhtz5j502g_y5t8kmgwj1m40000gn/T/ipykernel_83548/1870505496.py:42: GradioDeprecationWarning: Usage of gradio.outputs is deprecated, and will not be supported in the future, please import your components from gradio.components\n",
      "  label=gr.outputs.Label(num_top_classes=8)\n",
      "/var/folders/zw/smhtz5j502g_y5t8kmgwj1m40000gn/T/ipykernel_83548/1870505496.py:42: GradioUnusedKwargWarning: You have unused kwarg parameters in Label, please remove them: {'type': 'auto'}\n",
      "  label=gr.outputs.Label(num_top_classes=8)\n",
      "/var/folders/zw/smhtz5j502g_y5t8kmgwj1m40000gn/T/ipykernel_83548/1870505496.py:53: GradioDeprecationWarning: `capture_session` parameter is deprecated, and it has no effect\n",
      "  gr.Interface(fn=predict_img,inputs=image,outputs=label,capture_session=True).launch(debug='True',share=True)\n"
     ]
    },
    {
     "name": "stdout",
     "output_type": "stream",
     "text": [
      "Running on local URL:  http://127.0.0.1:7860\n",
      "Running on public URL: https://165f522cf33db5e028.gradio.live\n",
      "\n",
      "This share link expires in 72 hours. For free permanent hosting and GPU upgrades, run `gradio deploy` from Terminal to deploy to Spaces (https://huggingface.co/spaces)\n"
     ]
    },
    {
     "data": {
      "text/html": [
       "<div><iframe src=\"https://165f522cf33db5e028.gradio.live\" width=\"100%\" height=\"500\" allow=\"autoplay; camera; microphone; clipboard-read; clipboard-write;\" frameborder=\"0\" allowfullscreen></iframe></div>"
      ],
      "text/plain": [
       "<IPython.core.display.HTML object>"
      ]
     },
     "metadata": {},
     "output_type": "display_data"
    },
    {
     "name": "stdout",
     "output_type": "stream",
     "text": [
      "1/1 [==============================] - 1s 1s/step\n",
      "1/1 [==============================] - 0s 116ms/step\n",
      "1/1 [==============================] - 0s 88ms/step\n",
      "1/1 [==============================] - 0s 89ms/step\n",
      "1/1 [==============================] - 0s 92ms/step\n",
      "1/1 [==============================] - 0s 101ms/step\n",
      "1/1 [==============================] - 0s 136ms/step\n",
      "1/1 [==============================] - 0s 110ms/step\n",
      "1/1 [==============================] - 0s 112ms/step\n",
      "1/1 [==============================] - 0s 131ms/step\n",
      "1/1 [==============================] - 0s 93ms/step\n",
      "1/1 [==============================] - 0s 134ms/step\n",
      "1/1 [==============================] - 0s 94ms/step\n",
      "1/1 [==============================] - 0s 128ms/step\n",
      "1/1 [==============================] - 0s 92ms/step\n"
     ]
    }
   ],
   "source": [
    "import tensorflow as tf\n",
    "import numpy as np\n",
    "from PIL import Image\n",
    "import cv2\n",
    "import gradio as gr\n",
    "from tensorflow.keras.layers import Dense, Flatten, GlobalAveragePooling2D, BatchNormalization, Dropout,AveragePooling2D\n",
    "import tensorflow as tf\n",
    "from tensorflow.keras.applications import DenseNet201\n",
    "from keras.models import Model\n",
    "from keras.models import Sequential\n",
    "from keras.regularizers import *\n",
    "from tensorflow import keras\n",
    "from tensorflow.keras import layers\n",
    "from google_drive_downloader import GoogleDriveDownloader as gdd\n",
    "\n",
    "    \n",
    "def main():\n",
    "  def load_model():\n",
    "    \n",
    "    model=tf.keras.models.load_model(\"model_4/model_4.h5\")\n",
    "    lr_schedule = tf.keras.optimizers.schedules.ExponentialDecay(\n",
    "    initial_learning_rate=0.00001,  # Initial learning rate\n",
    "    decay_steps=10000,  # Learning rate decay steps (adjust as needed)\n",
    "    decay_rate=0.9) # Decay rate\n",
    "\n",
    "# Create the Adam optimizer with the learning rate schedule\n",
    "    optimizer = tf.keras.optimizers.Adam(learning_rate=lr_schedule)\n",
    "# Compile your model\n",
    "    model.compile(\n",
    "    optimizer=optimizer,\n",
    "    metrics=[\"accuracy\"],\n",
    "    loss=tf.keras.losses.CategoricalCrossentropy(label_smoothing=0.1))\n",
    "    return model\n",
    "  model=load_model()\n",
    "  \n",
    "  def preprocess(image):\n",
    "    kernel = np.array([[0,-1,0], [-1,5,-1], [0,-1,0]])\n",
    "    im = cv2.filter2D(image, -1, kernel)\n",
    "    return im\n",
    "  \n",
    "  image=gr.inputs.Image(shape=(224,224))\n",
    "  label=gr.outputs.Label(num_top_classes=8)\n",
    "  \n",
    "  class_name=['Benign with Density=1','Malignant with Density=1','Benign with Density=2','Malignant with Density=2','Benign with Density=3','Malignant with Density=3','Benign with Density=4','Malignant with Density=4']\n",
    "  \n",
    "  def predict_img(img):\n",
    "    img=preprocess(img)\n",
    "    img=img/255.0\n",
    "    im=img.reshape(-1,224,224,3)\n",
    "    pred=model.predict(im)[0]\n",
    "    return {class_name[i]:float(pred[i]) for i in range(8)}\n",
    "  \n",
    "  gr.Interface(fn=predict_img,inputs=image,outputs=label,capture_session=True).launch(debug='True',share=True)\n",
    "  \n",
    "if __name__=='__main__':\n",
    "    main()\n",
    "    "
   ]
  },
  {
   "cell_type": "code",
   "execution_count": null,
   "id": "8b0ec93e",
   "metadata": {},
   "outputs": [],
   "source": []
  },
  {
   "cell_type": "code",
   "execution_count": null,
   "id": "9618a934",
   "metadata": {},
   "outputs": [],
   "source": []
  }
 ],
 "metadata": {
  "kernelspec": {
   "display_name": "Python 3 (ipykernel)",
   "language": "python",
   "name": "python3"
  },
  "language_info": {
   "codemirror_mode": {
    "name": "ipython",
    "version": 3
   },
   "file_extension": ".py",
   "mimetype": "text/x-python",
   "name": "python",
   "nbconvert_exporter": "python",
   "pygments_lexer": "ipython3",
   "version": "3.9.18"
  }
 },
 "nbformat": 4,
 "nbformat_minor": 5
}
